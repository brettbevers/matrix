{
 "worksheets": [
  {
   "cells": [
    {
     "cell_type": "code",
     "metadata": {},
     "outputs": [],
     "input": [
      "2304811 - (2304811/47)*47"
     ],
     "language": "python"
    },
    {
     "cell_type": "code",
     "metadata": {},
     "outputs": [],
     "input": [
      ""
     ],
     "language": "python"
    }
   ]
  }
 ],
 "cells": [],
 "metadata": {
  "name": "",
  "signature": "sha256:40ea23dbf7e94cbf3aa98ad23d604fb86836926277da28e8fd887ea9078b63f0"
 },
 "nbformat": 3,
 "nbformat_minor": 0
}